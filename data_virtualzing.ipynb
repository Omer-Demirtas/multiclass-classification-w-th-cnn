{
 "cells": [
  {
   "cell_type": "code",
   "execution_count": 1,
   "metadata": {},
   "outputs": [
    {
     "name": "stderr",
     "output_type": "stream",
     "text": [
      "2024-05-05 11:13:46.925364: I tensorflow/core/platform/cpu_feature_guard.cc:182] This TensorFlow binary is optimized to use available CPU instructions in performance-critical operations.\n",
      "To enable the following instructions: SSE4.1 SSE4.2 AVX AVX2 AVX512F AVX512_VNNI FMA, in other operations, rebuild TensorFlow with the appropriate compiler flags.\n"
     ]
    }
   ],
   "source": [
    "# Imports\n",
    "import os\n",
    "import cv2 \n",
    "import numpy as np\n",
    "import tensorflow as tf\n",
    "from keras import layers\n",
    "import matplotlib.pyplot as plt"
   ]
  },
  {
   "cell_type": "code",
   "execution_count": 2,
   "metadata": {},
   "outputs": [],
   "source": [
    "%store -r test_dir\n",
    "%store -r train_dir\n",
    "%store -r class_names\n",
    "%store -r class_numbers"
   ]
  },
  {
   "cell_type": "code",
   "execution_count": 3,
   "metadata": {},
   "outputs": [],
   "source": [
    "# Random Sample Getter\n",
    "def getRandomSamplesFromPath(path, sample_size):\n",
    "    samples = [name for name in os.listdir(path) if os.path.isfile(os.path.join(path, name))]\n",
    "\n",
    "    rand = np.random.randint(len(samples), size=(sample_size)) \n",
    "\n",
    "    return [samples[i] for i in rand]"
   ]
  },
  {
   "cell_type": "code",
   "execution_count": 4,
   "metadata": {},
   "outputs": [],
   "source": [
    "# Show random samples\n",
    "def show_samples(): \n",
    "    plt.subplots(figsize=(10, 10))\n",
    "\n",
    "    class_sample_count = 5\n",
    "    class_count = len(class_names)\n",
    "\n",
    "    # Iterate for each class\n",
    "    for i in range(class_count):\n",
    "        class_name = class_names[i]\n",
    "\n",
    "        samples = getRandomSamplesFromPath(\"train/\" + class_name, class_sample_count)\n",
    "\n",
    "        # iterate for each sample\n",
    "        for j in range(class_sample_count):\n",
    "            image = cv2.imread(\"train/\" + class_name + \"/\" +  samples[j])\n",
    "            plt.subplot(class_count, class_sample_count, i * class_sample_count + j + 1) \n",
    "            plt.imshow(cv2.cvtColor(image, cv2.COLOR_BGR2RGB))\n",
    "            plt.axis('off')\n",
    "            if j == 0:\n",
    "                plt.text(-30, image.shape[0]//2, class_name, rotation=0, verticalalignment='center', horizontalalignment='center', fontsize=12)\n",
    "\n",
    "    plt.tight_layout() \n",
    "    plt.show() "
   ]
  }
 ],
 "metadata": {
  "kernelspec": {
   "display_name": "vscode",
   "language": "python",
   "name": "python3"
  },
  "language_info": {
   "codemirror_mode": {
    "name": "ipython",
    "version": 3
   },
   "file_extension": ".py",
   "mimetype": "text/x-python",
   "name": "python",
   "nbconvert_exporter": "python",
   "pygments_lexer": "ipython3",
   "version": "3.9.18"
  }
 },
 "nbformat": 4,
 "nbformat_minor": 2
}
