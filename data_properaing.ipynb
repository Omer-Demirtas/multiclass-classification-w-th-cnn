{
 "cells": [
  {
   "cell_type": "markdown",
   "id": "12264ab1",
   "metadata": {},
   "source": [
    "## Imports"
   ]
  },
  {
   "cell_type": "code",
   "execution_count": 20,
   "id": "dc11f53e-7979-4208-8c68-da264187d2bf",
   "metadata": {},
   "outputs": [],
   "source": [
    "# Imports\n",
    "import os\n",
    "import cv2 \n",
    "import json\n",
    "import numpy as np\n",
    "import tensorflow as tf\n",
    "from keras import layers\n",
    "import matplotlib.pyplot as plt"
   ]
  },
  {
   "cell_type": "code",
   "execution_count": 21,
   "id": "2088a229",
   "metadata": {},
   "outputs": [],
   "source": [
    "%store -r test_dir\n",
    "%store -r train_dir\n",
    "%store -r class_names\n",
    "%store -r class_numbers\n",
    "\n",
    "X_train = None\n",
    "y_train = None\n",
    "X_test = None\n",
    "y_test = None"
   ]
  },
  {
   "cell_type": "code",
   "execution_count": 22,
   "id": "5bed8076",
   "metadata": {},
   "outputs": [],
   "source": [
    "# Load Data\n",
    "def load_data():\n",
    "    global X_train, y_train, X_test, y_test\n",
    "    (X_train, y_train), (X_test, y_test) = tf.keras.datasets.cifar100.load_data()"
   ]
  },
  {
   "cell_type": "code",
   "execution_count": 23,
   "id": "1b6efc6f",
   "metadata": {},
   "outputs": [],
   "source": [
    "# Create directpries if not exist\n",
    "\n",
    "def create_dir(dir):\n",
    "    if not os.path.exists(dir):\n",
    "        os.mkdir(dir)"
   ]
  },
  {
   "cell_type": "markdown",
   "id": "538c6e9a",
   "metadata": {},
   "source": [
    "## Data Preparing\n",
    "\n",
    "In this section "
   ]
  },
  {
   "cell_type": "code",
   "execution_count": 24,
   "id": "c9e26ce2",
   "metadata": {},
   "outputs": [],
   "source": [
    "\"\"\"\n",
    "    Create folder for interested classes\n",
    "\"\"\"\n",
    "\n",
    "def subsetdata(X_data, y_data, image_dir):\n",
    "    for i,num in enumerate(class_numbers):\n",
    "        class_name = class_names[i]\n",
    "\n",
    "        if not os.path.exists(image_dir + class_names[i]):\n",
    "            index=np.where(y_data==num)\n",
    "            subset_x_data=X_data[np.isin(y_data,[num]).flatten()]\n",
    "            for a,x in enumerate(subset_x_data):\n",
    "                image_path = image_dir + class_name\n",
    "                \n",
    "                create_dir(image_path)\n",
    "                \n",
    "                image_path=image_path + \"/\" + str(a) + \".png\"\n",
    "\n",
    "                cv2.imwrite(image_path,x)\n",
    "        else:\n",
    "            print(image_dir + class_name + \" konumunda dosya vardır kontrol ediniz\\n\")"
   ]
  },
  {
   "cell_type": "code",
   "execution_count": 25,
   "id": "9480e6c4",
   "metadata": {},
   "outputs": [],
   "source": [
    "\n",
    "def handle_data_file_structure():\n",
    "    create_dir(test_dir)\n",
    "    create_dir(train_dir)\n",
    "\n",
    "    subsetdata(X_train,y_train,train_dir)\n",
    "    subsetdata(X_test,y_test,test_dir)"
   ]
  },
  {
   "cell_type": "code",
   "execution_count": 26,
   "id": "32d29981",
   "metadata": {},
   "outputs": [],
   "source": [
    "def getRandomSamplesFromPath(path, sample_size):\n",
    "    samples = [name for name in os.listdir(path) if os.path.isfile(os.path.join(path, name))]\n",
    "\n",
    "    rand = np.random.randint(len(samples), size=(sample_size)) \n",
    "\n",
    "    return [samples[i] for i in rand]\n",
    "\n",
    "def show_samples(): \n",
    "    plt.subplots(figsize=(10, 10))\n",
    "\n",
    "    class_sample_count = 5\n",
    "    class_count = len(class_names)\n",
    "\n",
    "    # Iterate for each class\n",
    "    for i in range(class_count):\n",
    "        class_name = class_names[i]\n",
    "\n",
    "        samples = getRandomSamplesFromPath(\"train/\" + class_name, class_sample_count)\n",
    "\n",
    "        # iterate for each sample\n",
    "        for j in range(class_sample_count):\n",
    "            image = cv2.imread(\"train/\" + class_name + \"/\" +  samples[j])\n",
    "            plt.subplot(class_count, class_sample_count, i * class_sample_count + j + 1) \n",
    "            plt.imshow(cv2.cvtColor(image, cv2.COLOR_BGR2RGB))\n",
    "            plt.axis('off')\n",
    "            if j == 0:\n",
    "                plt.text(-30, image.shape[0]//2, class_name, rotation=0, verticalalignment='center', horizontalalignment='center', fontsize=12)\n",
    "\n",
    "    plt.tight_layout() \n",
    "    plt.show() "
   ]
  }
 ],
 "metadata": {
  "kernelspec": {
   "display_name": "Python 3 (ipykernel)",
   "language": "python",
   "name": "python3"
  },
  "language_info": {
   "codemirror_mode": {
    "name": "ipython",
    "version": 3
   },
   "file_extension": ".py",
   "mimetype": "text/x-python",
   "name": "python",
   "nbconvert_exporter": "python",
   "pygments_lexer": "ipython3",
   "version": "3.9.18"
  }
 },
 "nbformat": 4,
 "nbformat_minor": 5
}
